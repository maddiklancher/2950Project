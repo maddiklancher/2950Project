{
 "cells": [
  {
   "cell_type": "markdown",
   "metadata": {},
   "source": [
    "# INFO 2950 Project Phase 2\n",
    "#### Talia Boehm, Lucy Barsanti, Emma Shen, Maddi Klancher\n",
    "\n",
    "\n",
    "Link to dataset: https://www.kaggle.com/datasets/jawadkhattak/us-flight-delay-from-january-2017-july-2022"
   ]
  },
  {
   "cell_type": "code",
   "execution_count": 6,
   "metadata": {},
   "outputs": [],
   "source": [
    "import numpy as np\n",
    "import pandas as pd\n",
    "import requests\n",
    "from bs4 import BeautifulSoup\n",
    "\n",
    "import seaborn\n",
    "from matplotlib import pyplot as plt\n",
    "\n",
    "from sklearn.linear_model import LogisticRegression"
   ]
  },
  {
   "cell_type": "markdown",
   "metadata": {},
   "source": [
    "## I. Research Question\n",
    "\n",
    "### A. Instructions from student handbook \n",
    "State your research question (s) clearly.\n"
   ]
  },
  {
   "cell_type": "markdown",
   "metadata": {},
   "source": [
    "## II. Data Collection and Cleaning\n",
    "### A. Instructions from student handbook \n",
    "\n",
    "- Have an initial dra of your data cleaning\n",
    "appendix. \n",
    "- Document every step that takes your raw data file(s) and turns it into the analysis-ready data set that you would submit with your final project. \n",
    "- Include text cells describing your data collection (downloading, Rescraping, surveys, etc), and text cells describing any additional data curation/cleaning (merging data frames, filtering, transformations of\n",
    "variables, etc). \n",
    "- Include code cells for data curation/cleaning, but not\n",
    "collection. \n",
    "- *Note:* You should be saving data in intermediate files at several points through this process so that you are not starting from scratch every time you change something. This also makes sure you have documentation for everything that you have done for your reference, but we do not necessarily need to see all of it in code form.\n",
    "\n",
    "### Our work here\n",
    "\n",
    "We are using the *Flight Delay from January 2017 - July 2022* dataset that we found on Kaggle. \n",
    "\n",
    "Link to dataset: \"https://www.kaggle.com/datasets/jawadkhattak/us-flight-delay-from-january-2017-july-2022\"\n"
   ]
  },
  {
   "cell_type": "code",
   "execution_count": 2,
   "metadata": {},
   "outputs": [],
   "source": [
    "ux_url = \"https://www.kaggle.com/datasets/jawadkhattak/us-flight-delay-from-january-2017-july-2022\"\n",
    "\n",
    "ux_result = requests.get(ux_url)\n",
    "if ux_result.status_code != 200:\n",
    "    print(\"something went wrong:\", ux_result.status_code, ux_result.reason)\n",
    "\n",
    "with open(\"ux_report.html\", \"w\") as writer:\n",
    "    writer.write(ux_result.text)\n",
    "\n",
    "with open(\"ux_report.html\", \"r\") as reader:\n",
    "    html_source = reader.read()"
   ]
  },
  {
   "cell_type": "markdown",
   "metadata": {},
   "source": [
    "## III. Data Description\n",
    "\n",
    "### A. Instructions from student handbook\n",
    "Have an initial dra of your data description section.\n",
    "Your data description should be about your analysis-ready data.\n"
   ]
  },
  {
   "cell_type": "markdown",
   "metadata": {},
   "source": [
    "The dataset contains information on flights in the United States from January 2017 to July 2022. The data includes the date, flight number, origin airport, destination airport, departure time, arrival time, and the reason for any delays."
   ]
  },
  {
   "cell_type": "markdown",
   "metadata": {},
   "source": [
    "## IV. Data Limitation\n",
    "### A. Instructions from student handbook \n",
    "Have an initial dra of your data description section.\n",
    "\n",
    "Identify any potential problems with your dataset."
   ]
  },
  {
   "cell_type": "markdown",
   "metadata": {},
   "source": [
    "## V. Exploratory Data Analysis \n",
    "### A. Instructions from student handbook\n",
    "Have an initial dra of your data description section.\n",
    "Perform and initial exploratory data analysis "
   ]
  },
  {
   "cell_type": "code",
   "execution_count": 7,
   "metadata": {},
   "outputs": [],
   "source": [
    "pd = pd.read_csv('Airline_Delay_Cause.csv')"
   ]
  },
  {
   "cell_type": "markdown",
   "metadata": {},
   "source": [
    "## VI. Questions for reviewers \n",
    "\n",
    "### A. Instructions from student handbook\n",
    "Have an initial dra of your data description section.\n",
    "Perform and initial exploratory data analysis \n",
    "List specific questions for your peer reviewers\n",
    "and project mentor to answer in giving you feedback on this phase.\n"
   ]
  },
  {
   "cell_type": "markdown",
   "metadata": {},
   "source": []
  }
 ],
 "metadata": {
  "kernelspec": {
   "display_name": "Python 3 (ipykernel)",
   "language": "python",
   "name": "python3"
  },
  "language_info": {
   "codemirror_mode": {
    "name": "ipython",
    "version": 3
   },
   "file_extension": ".py",
   "mimetype": "text/x-python",
   "name": "python",
   "nbconvert_exporter": "python",
   "pygments_lexer": "ipython3",
   "version": "3.8.13"
  },
  "vscode": {
   "interpreter": {
    "hash": "397704579725e15f5c7cb49fe5f0341eb7531c82d19f2c29d197e8b64ab5776b"
   }
  }
 },
 "nbformat": 4,
 "nbformat_minor": 2
}
